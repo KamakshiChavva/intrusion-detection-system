{
  "cells": [
    {
      "cell_type": "markdown",
      "metadata": {
        "id": "R6WjwEkBclXv"
      },
      "source": [
        "# Import Libraries"
      ]
    },
    {
      "cell_type": "code",
      "execution_count": null,
      "metadata": {
        "execution": {
          "iopub.execute_input": "2024-12-24T03:06:55.450513Z",
          "iopub.status.busy": "2024-12-24T03:06:55.450214Z",
          "iopub.status.idle": "2024-12-24T03:07:03.547618Z",
          "shell.execute_reply": "2024-12-24T03:07:03.546484Z",
          "shell.execute_reply.started": "2024-12-24T03:06:55.450481Z"
        },
        "trusted": true,
        "id": "ASgBX6G_clXw",
        "outputId": "0471c84b-04f2-4bf5-eead-8d0e9e718d80"
      },
      "outputs": [
        {
          "data": {
            "text/html": [
              "        <script type=\"text/javascript\">\n",
              "        window.PlotlyConfig = {MathJaxConfig: 'local'};\n",
              "        if (window.MathJax && window.MathJax.Hub && window.MathJax.Hub.Config) {window.MathJax.Hub.Config({SVG: {font: \"STIX-Web\"}});}\n",
              "        if (typeof require !== 'undefined') {\n",
              "        require.undef(\"plotly\");\n",
              "        requirejs.config({\n",
              "            paths: {\n",
              "                'plotly': ['https://cdn.plot.ly/plotly-2.32.0.min']\n",
              "            }\n",
              "        });\n",
              "        require(['plotly'], function(Plotly) {\n",
              "            window._Plotly = Plotly;\n",
              "        });\n",
              "        }\n",
              "        </script>\n",
              "        "
            ]
          },
          "metadata": {},
          "output_type": "display_data"
        }
      ],
      "source": [
        "import numpy as np\n",
        "import pandas as pd\n",
        "import seaborn as sns\n",
        "import joblib\n",
        "import matplotlib.pyplot as plt\n",
        "import plotly.express as px\n",
        "\n",
        "import warnings\n",
        "warnings.filterwarnings('ignore')\n",
        "\n",
        "from plotly.offline import init_notebook_mode, iplot, plot\n",
        "import plotly as py\n",
        "import plotly.express as px\n",
        "init_notebook_mode(connected=True)\n",
        "import plotly.graph_objs as go"
      ]
    },
    {
      "cell_type": "markdown",
      "metadata": {
        "id": "0o-JKFlIclXz"
      },
      "source": [
        "# Import Dataset"
      ]
    },
    {
      "cell_type": "code",
      "execution_count": null,
      "metadata": {
        "execution": {
          "iopub.execute_input": "2024-12-24T03:07:03.550147Z",
          "iopub.status.busy": "2024-12-24T03:07:03.549799Z",
          "iopub.status.idle": "2024-12-24T03:07:04.293641Z",
          "shell.execute_reply": "2024-12-24T03:07:04.292379Z",
          "shell.execute_reply.started": "2024-12-24T03:07:03.550121Z"
        },
        "trusted": true,
        "id": "pzvwpaTUclX0",
        "outputId": "44f09ecd-00cd-48d4-e9e6-02ed8da535f1"
      },
      "outputs": [
        {
          "data": {
            "text/html": [
              "<div>\n",
              "<style scoped>\n",
              "    .dataframe tbody tr th:only-of-type {\n",
              "        vertical-align: middle;\n",
              "    }\n",
              "\n",
              "    .dataframe tbody tr th {\n",
              "        vertical-align: top;\n",
              "    }\n",
              "\n",
              "    .dataframe thead th {\n",
              "        text-align: right;\n",
              "    }\n",
              "</style>\n",
              "<table border=\"1\" class=\"dataframe\">\n",
              "  <thead>\n",
              "    <tr style=\"text-align: right;\">\n",
              "      <th></th>\n",
              "      <th>duration</th>\n",
              "      <th>protocol_type</th>\n",
              "      <th>service</th>\n",
              "      <th>flag</th>\n",
              "      <th>src_bytes</th>\n",
              "      <th>dst_bytes</th>\n",
              "      <th>land</th>\n",
              "      <th>wrong_fragment</th>\n",
              "      <th>urgent</th>\n",
              "      <th>hot</th>\n",
              "      <th>...</th>\n",
              "      <th>dst_host_same_srv_rate</th>\n",
              "      <th>dst_host_diff_srv_rate</th>\n",
              "      <th>dst_host_same_src_port_rate</th>\n",
              "      <th>dst_host_srv_diff_host_rate</th>\n",
              "      <th>dst_host_serror_rate</th>\n",
              "      <th>dst_host_srv_serror_rate</th>\n",
              "      <th>dst_host_rerror_rate</th>\n",
              "      <th>dst_host_srv_rerror_rate</th>\n",
              "      <th>attack</th>\n",
              "      <th>level</th>\n",
              "    </tr>\n",
              "  </thead>\n",
              "  <tbody>\n",
              "    <tr>\n",
              "      <th>0</th>\n",
              "      <td>0</td>\n",
              "      <td>udp</td>\n",
              "      <td>other</td>\n",
              "      <td>SF</td>\n",
              "      <td>146</td>\n",
              "      <td>0</td>\n",
              "      <td>0</td>\n",
              "      <td>0</td>\n",
              "      <td>0</td>\n",
              "      <td>0</td>\n",
              "      <td>...</td>\n",
              "      <td>0.00</td>\n",
              "      <td>0.60</td>\n",
              "      <td>0.88</td>\n",
              "      <td>0.00</td>\n",
              "      <td>0.00</td>\n",
              "      <td>0.00</td>\n",
              "      <td>0.0</td>\n",
              "      <td>0.00</td>\n",
              "      <td>normal</td>\n",
              "      <td>15</td>\n",
              "    </tr>\n",
              "    <tr>\n",
              "      <th>1</th>\n",
              "      <td>0</td>\n",
              "      <td>tcp</td>\n",
              "      <td>private</td>\n",
              "      <td>S0</td>\n",
              "      <td>0</td>\n",
              "      <td>0</td>\n",
              "      <td>0</td>\n",
              "      <td>0</td>\n",
              "      <td>0</td>\n",
              "      <td>0</td>\n",
              "      <td>...</td>\n",
              "      <td>0.10</td>\n",
              "      <td>0.05</td>\n",
              "      <td>0.00</td>\n",
              "      <td>0.00</td>\n",
              "      <td>1.00</td>\n",
              "      <td>1.00</td>\n",
              "      <td>0.0</td>\n",
              "      <td>0.00</td>\n",
              "      <td>neptune</td>\n",
              "      <td>19</td>\n",
              "    </tr>\n",
              "    <tr>\n",
              "      <th>2</th>\n",
              "      <td>0</td>\n",
              "      <td>tcp</td>\n",
              "      <td>http</td>\n",
              "      <td>SF</td>\n",
              "      <td>232</td>\n",
              "      <td>8153</td>\n",
              "      <td>0</td>\n",
              "      <td>0</td>\n",
              "      <td>0</td>\n",
              "      <td>0</td>\n",
              "      <td>...</td>\n",
              "      <td>1.00</td>\n",
              "      <td>0.00</td>\n",
              "      <td>0.03</td>\n",
              "      <td>0.04</td>\n",
              "      <td>0.03</td>\n",
              "      <td>0.01</td>\n",
              "      <td>0.0</td>\n",
              "      <td>0.01</td>\n",
              "      <td>normal</td>\n",
              "      <td>21</td>\n",
              "    </tr>\n",
              "    <tr>\n",
              "      <th>3</th>\n",
              "      <td>0</td>\n",
              "      <td>tcp</td>\n",
              "      <td>http</td>\n",
              "      <td>SF</td>\n",
              "      <td>199</td>\n",
              "      <td>420</td>\n",
              "      <td>0</td>\n",
              "      <td>0</td>\n",
              "      <td>0</td>\n",
              "      <td>0</td>\n",
              "      <td>...</td>\n",
              "      <td>1.00</td>\n",
              "      <td>0.00</td>\n",
              "      <td>0.00</td>\n",
              "      <td>0.00</td>\n",
              "      <td>0.00</td>\n",
              "      <td>0.00</td>\n",
              "      <td>0.0</td>\n",
              "      <td>0.00</td>\n",
              "      <td>normal</td>\n",
              "      <td>21</td>\n",
              "    </tr>\n",
              "    <tr>\n",
              "      <th>4</th>\n",
              "      <td>0</td>\n",
              "      <td>tcp</td>\n",
              "      <td>private</td>\n",
              "      <td>REJ</td>\n",
              "      <td>0</td>\n",
              "      <td>0</td>\n",
              "      <td>0</td>\n",
              "      <td>0</td>\n",
              "      <td>0</td>\n",
              "      <td>0</td>\n",
              "      <td>...</td>\n",
              "      <td>0.07</td>\n",
              "      <td>0.07</td>\n",
              "      <td>0.00</td>\n",
              "      <td>0.00</td>\n",
              "      <td>0.00</td>\n",
              "      <td>0.00</td>\n",
              "      <td>1.0</td>\n",
              "      <td>1.00</td>\n",
              "      <td>neptune</td>\n",
              "      <td>21</td>\n",
              "    </tr>\n",
              "  </tbody>\n",
              "</table>\n",
              "<p>5 rows × 43 columns</p>\n",
              "</div>"
            ],
            "text/plain": [
              "   duration protocol_type  service flag  src_bytes  dst_bytes  land  \\\n",
              "0         0           udp    other   SF        146          0     0   \n",
              "1         0           tcp  private   S0          0          0     0   \n",
              "2         0           tcp     http   SF        232       8153     0   \n",
              "3         0           tcp     http   SF        199        420     0   \n",
              "4         0           tcp  private  REJ          0          0     0   \n",
              "\n",
              "   wrong_fragment  urgent  hot  ...  dst_host_same_srv_rate  \\\n",
              "0               0       0    0  ...                    0.00   \n",
              "1               0       0    0  ...                    0.10   \n",
              "2               0       0    0  ...                    1.00   \n",
              "3               0       0    0  ...                    1.00   \n",
              "4               0       0    0  ...                    0.07   \n",
              "\n",
              "   dst_host_diff_srv_rate  dst_host_same_src_port_rate  \\\n",
              "0                    0.60                         0.88   \n",
              "1                    0.05                         0.00   \n",
              "2                    0.00                         0.03   \n",
              "3                    0.00                         0.00   \n",
              "4                    0.07                         0.00   \n",
              "\n",
              "   dst_host_srv_diff_host_rate  dst_host_serror_rate  \\\n",
              "0                         0.00                  0.00   \n",
              "1                         0.00                  1.00   \n",
              "2                         0.04                  0.03   \n",
              "3                         0.00                  0.00   \n",
              "4                         0.00                  0.00   \n",
              "\n",
              "   dst_host_srv_serror_rate  dst_host_rerror_rate  dst_host_srv_rerror_rate  \\\n",
              "0                      0.00                   0.0                      0.00   \n",
              "1                      1.00                   0.0                      0.00   \n",
              "2                      0.01                   0.0                      0.01   \n",
              "3                      0.00                   0.0                      0.00   \n",
              "4                      0.00                   1.0                      1.00   \n",
              "\n",
              "    attack  level  \n",
              "0   normal     15  \n",
              "1  neptune     19  \n",
              "2   normal     21  \n",
              "3   normal     21  \n",
              "4  neptune     21  \n",
              "\n",
              "[5 rows x 43 columns]"
            ]
          },
          "execution_count": 2,
          "metadata": {},
          "output_type": "execute_result"
        }
      ],
      "source": [
        "df = pd.read_csv(\"KDDTrain+.txt\")\n",
        "\n",
        "columns = (['duration','protocol_type','service','flag','src_bytes','dst_bytes','land','wrong_fragment','urgent','hot'\n",
        ",'num_failed_logins','logged_in','num_compromised','root_shell','su_attempted','num_root','num_file_creations'\n",
        ",'num_shells','num_access_files','num_outbound_cmds','is_host_login','is_guest_login','count','srv_count','serror_rate'\n",
        ",'srv_serror_rate','rerror_rate','srv_rerror_rate','same_srv_rate','diff_srv_rate','srv_diff_host_rate','dst_host_count','dst_host_srv_count'\n",
        ",'dst_host_same_srv_rate','dst_host_diff_srv_rate','dst_host_same_src_port_rate','dst_host_srv_diff_host_rate','dst_host_serror_rate'\n",
        ",'dst_host_srv_serror_rate','dst_host_rerror_rate','dst_host_srv_rerror_rate','attack','level'])\n",
        "\n",
        "df.columns = columns\n",
        "df.head()"
      ]
    },
    {
      "cell_type": "code",
      "execution_count": null,
      "metadata": {
        "execution": {
          "iopub.execute_input": "2024-12-24T03:07:04.295565Z",
          "iopub.status.busy": "2024-12-24T03:07:04.295144Z",
          "iopub.status.idle": "2024-12-24T03:07:04.355295Z",
          "shell.execute_reply": "2024-12-24T03:07:04.354157Z",
          "shell.execute_reply.started": "2024-12-24T03:07:04.295524Z"
        },
        "trusted": true,
        "id": "TMEuPhIqclX2",
        "outputId": "0c33b2ea-8b9e-436c-f701-98eddf3a9996"
      },
      "outputs": [
        {
          "name": "stdout",
          "output_type": "stream",
          "text": [
            "<class 'pandas.core.frame.DataFrame'>\n",
            "RangeIndex: 125972 entries, 0 to 125971\n",
            "Data columns (total 43 columns):\n",
            " #   Column                       Non-Null Count   Dtype  \n",
            "---  ------                       --------------   -----  \n",
            " 0   duration                     125972 non-null  int64  \n",
            " 1   protocol_type                125972 non-null  object \n",
            " 2   service                      125972 non-null  object \n",
            " 3   flag                         125972 non-null  object \n",
            " 4   src_bytes                    125972 non-null  int64  \n",
            " 5   dst_bytes                    125972 non-null  int64  \n",
            " 6   land                         125972 non-null  int64  \n",
            " 7   wrong_fragment               125972 non-null  int64  \n",
            " 8   urgent                       125972 non-null  int64  \n",
            " 9   hot                          125972 non-null  int64  \n",
            " 10  num_failed_logins            125972 non-null  int64  \n",
            " 11  logged_in                    125972 non-null  int64  \n",
            " 12  num_compromised              125972 non-null  int64  \n",
            " 13  root_shell                   125972 non-null  int64  \n",
            " 14  su_attempted                 125972 non-null  int64  \n",
            " 15  num_root                     125972 non-null  int64  \n",
            " 16  num_file_creations           125972 non-null  int64  \n",
            " 17  num_shells                   125972 non-null  int64  \n",
            " 18  num_access_files             125972 non-null  int64  \n",
            " 19  num_outbound_cmds            125972 non-null  int64  \n",
            " 20  is_host_login                125972 non-null  int64  \n",
            " 21  is_guest_login               125972 non-null  int64  \n",
            " 22  count                        125972 non-null  int64  \n",
            " 23  srv_count                    125972 non-null  int64  \n",
            " 24  serror_rate                  125972 non-null  float64\n",
            " 25  srv_serror_rate              125972 non-null  float64\n",
            " 26  rerror_rate                  125972 non-null  float64\n",
            " 27  srv_rerror_rate              125972 non-null  float64\n",
            " 28  same_srv_rate                125972 non-null  float64\n",
            " 29  diff_srv_rate                125972 non-null  float64\n",
            " 30  srv_diff_host_rate           125972 non-null  float64\n",
            " 31  dst_host_count               125972 non-null  int64  \n",
            " 32  dst_host_srv_count           125972 non-null  int64  \n",
            " 33  dst_host_same_srv_rate       125972 non-null  float64\n",
            " 34  dst_host_diff_srv_rate       125972 non-null  float64\n",
            " 35  dst_host_same_src_port_rate  125972 non-null  float64\n",
            " 36  dst_host_srv_diff_host_rate  125972 non-null  float64\n",
            " 37  dst_host_serror_rate         125972 non-null  float64\n",
            " 38  dst_host_srv_serror_rate     125972 non-null  float64\n",
            " 39  dst_host_rerror_rate         125972 non-null  float64\n",
            " 40  dst_host_srv_rerror_rate     125972 non-null  float64\n",
            " 41  attack                       125972 non-null  object \n",
            " 42  level                        125972 non-null  int64  \n",
            "dtypes: float64(15), int64(24), object(4)\n",
            "memory usage: 41.3+ MB\n"
          ]
        }
      ],
      "source": [
        "df.info()"
      ]
    },
    {
      "cell_type": "code",
      "execution_count": null,
      "metadata": {
        "execution": {
          "iopub.execute_input": "2024-12-24T03:07:04.357049Z",
          "iopub.status.busy": "2024-12-24T03:07:04.356734Z",
          "iopub.status.idle": "2024-12-24T03:07:04.597607Z",
          "shell.execute_reply": "2024-12-24T03:07:04.596349Z",
          "shell.execute_reply.started": "2024-12-24T03:07:04.357022Z"
        },
        "trusted": true,
        "id": "61ZHYno7clX3",
        "outputId": "1da7b496-b5ae-4c67-ff72-b769973e0627"
      },
      "outputs": [
        {
          "data": {
            "text/html": [
              "<div>\n",
              "<style scoped>\n",
              "    .dataframe tbody tr th:only-of-type {\n",
              "        vertical-align: middle;\n",
              "    }\n",
              "\n",
              "    .dataframe tbody tr th {\n",
              "        vertical-align: top;\n",
              "    }\n",
              "\n",
              "    .dataframe thead th {\n",
              "        text-align: right;\n",
              "    }\n",
              "</style>\n",
              "<table border=\"1\" class=\"dataframe\">\n",
              "  <thead>\n",
              "    <tr style=\"text-align: right;\">\n",
              "      <th></th>\n",
              "      <th>count</th>\n",
              "      <th>mean</th>\n",
              "      <th>std</th>\n",
              "      <th>min</th>\n",
              "      <th>25%</th>\n",
              "      <th>50%</th>\n",
              "      <th>75%</th>\n",
              "      <th>max</th>\n",
              "    </tr>\n",
              "  </thead>\n",
              "  <tbody>\n",
              "    <tr>\n",
              "      <th>duration</th>\n",
              "      <td>125972.0</td>\n",
              "      <td>287.146929</td>\n",
              "      <td>2.604526e+03</td>\n",
              "      <td>0.0</td>\n",
              "      <td>0.00</td>\n",
              "      <td>0.00</td>\n",
              "      <td>0.00</td>\n",
              "      <td>4.290800e+04</td>\n",
              "    </tr>\n",
              "    <tr>\n",
              "      <th>src_bytes</th>\n",
              "      <td>125972.0</td>\n",
              "      <td>45567.100824</td>\n",
              "      <td>5.870354e+06</td>\n",
              "      <td>0.0</td>\n",
              "      <td>0.00</td>\n",
              "      <td>44.00</td>\n",
              "      <td>276.00</td>\n",
              "      <td>1.379964e+09</td>\n",
              "    </tr>\n",
              "    <tr>\n",
              "      <th>dst_bytes</th>\n",
              "      <td>125972.0</td>\n",
              "      <td>19779.271433</td>\n",
              "      <td>4.021285e+06</td>\n",
              "      <td>0.0</td>\n",
              "      <td>0.00</td>\n",
              "      <td>0.00</td>\n",
              "      <td>516.00</td>\n",
              "      <td>1.309937e+09</td>\n",
              "    </tr>\n",
              "    <tr>\n",
              "      <th>land</th>\n",
              "      <td>125972.0</td>\n",
              "      <td>0.000198</td>\n",
              "      <td>1.408613e-02</td>\n",
              "      <td>0.0</td>\n",
              "      <td>0.00</td>\n",
              "      <td>0.00</td>\n",
              "      <td>0.00</td>\n",
              "      <td>1.000000e+00</td>\n",
              "    </tr>\n",
              "    <tr>\n",
              "      <th>wrong_fragment</th>\n",
              "      <td>125972.0</td>\n",
              "      <td>0.022688</td>\n",
              "      <td>2.535310e-01</td>\n",
              "      <td>0.0</td>\n",
              "      <td>0.00</td>\n",
              "      <td>0.00</td>\n",
              "      <td>0.00</td>\n",
              "      <td>3.000000e+00</td>\n",
              "    </tr>\n",
              "    <tr>\n",
              "      <th>urgent</th>\n",
              "      <td>125972.0</td>\n",
              "      <td>0.000111</td>\n",
              "      <td>1.436608e-02</td>\n",
              "      <td>0.0</td>\n",
              "      <td>0.00</td>\n",
              "      <td>0.00</td>\n",
              "      <td>0.00</td>\n",
              "      <td>3.000000e+00</td>\n",
              "    </tr>\n",
              "    <tr>\n",
              "      <th>hot</th>\n",
              "      <td>125972.0</td>\n",
              "      <td>0.204411</td>\n",
              "      <td>2.149977e+00</td>\n",
              "      <td>0.0</td>\n",
              "      <td>0.00</td>\n",
              "      <td>0.00</td>\n",
              "      <td>0.00</td>\n",
              "      <td>7.700000e+01</td>\n",
              "    </tr>\n",
              "    <tr>\n",
              "      <th>num_failed_logins</th>\n",
              "      <td>125972.0</td>\n",
              "      <td>0.001222</td>\n",
              "      <td>4.523932e-02</td>\n",
              "      <td>0.0</td>\n",
              "      <td>0.00</td>\n",
              "      <td>0.00</td>\n",
              "      <td>0.00</td>\n",
              "      <td>5.000000e+00</td>\n",
              "    </tr>\n",
              "    <tr>\n",
              "      <th>logged_in</th>\n",
              "      <td>125972.0</td>\n",
              "      <td>0.395739</td>\n",
              "      <td>4.890107e-01</td>\n",
              "      <td>0.0</td>\n",
              "      <td>0.00</td>\n",
              "      <td>0.00</td>\n",
              "      <td>1.00</td>\n",
              "      <td>1.000000e+00</td>\n",
              "    </tr>\n",
              "    <tr>\n",
              "      <th>num_compromised</th>\n",
              "      <td>125972.0</td>\n",
              "      <td>0.279253</td>\n",
              "      <td>2.394214e+01</td>\n",
              "      <td>0.0</td>\n",
              "      <td>0.00</td>\n",
              "      <td>0.00</td>\n",
              "      <td>0.00</td>\n",
              "      <td>7.479000e+03</td>\n",
              "    </tr>\n",
              "    <tr>\n",
              "      <th>root_shell</th>\n",
              "      <td>125972.0</td>\n",
              "      <td>0.001342</td>\n",
              "      <td>3.660299e-02</td>\n",
              "      <td>0.0</td>\n",
              "      <td>0.00</td>\n",
              "      <td>0.00</td>\n",
              "      <td>0.00</td>\n",
              "      <td>1.000000e+00</td>\n",
              "    </tr>\n",
              "    <tr>\n",
              "      <th>su_attempted</th>\n",
              "      <td>125972.0</td>\n",
              "      <td>0.001103</td>\n",
              "      <td>4.515456e-02</td>\n",
              "      <td>0.0</td>\n",
              "      <td>0.00</td>\n",
              "      <td>0.00</td>\n",
              "      <td>0.00</td>\n",
              "      <td>2.000000e+00</td>\n",
              "    </tr>\n",
              "    <tr>\n",
              "      <th>num_root</th>\n",
              "      <td>125972.0</td>\n",
              "      <td>0.302194</td>\n",
              "      <td>2.439971e+01</td>\n",
              "      <td>0.0</td>\n",
              "      <td>0.00</td>\n",
              "      <td>0.00</td>\n",
              "      <td>0.00</td>\n",
              "      <td>7.468000e+03</td>\n",
              "    </tr>\n",
              "    <tr>\n",
              "      <th>num_file_creations</th>\n",
              "      <td>125972.0</td>\n",
              "      <td>0.012669</td>\n",
              "      <td>4.839370e-01</td>\n",
              "      <td>0.0</td>\n",
              "      <td>0.00</td>\n",
              "      <td>0.00</td>\n",
              "      <td>0.00</td>\n",
              "      <td>4.300000e+01</td>\n",
              "    </tr>\n",
              "    <tr>\n",
              "      <th>num_shells</th>\n",
              "      <td>125972.0</td>\n",
              "      <td>0.000413</td>\n",
              "      <td>2.218122e-02</td>\n",
              "      <td>0.0</td>\n",
              "      <td>0.00</td>\n",
              "      <td>0.00</td>\n",
              "      <td>0.00</td>\n",
              "      <td>2.000000e+00</td>\n",
              "    </tr>\n",
              "    <tr>\n",
              "      <th>num_access_files</th>\n",
              "      <td>125972.0</td>\n",
              "      <td>0.004096</td>\n",
              "      <td>9.936995e-02</td>\n",
              "      <td>0.0</td>\n",
              "      <td>0.00</td>\n",
              "      <td>0.00</td>\n",
              "      <td>0.00</td>\n",
              "      <td>9.000000e+00</td>\n",
              "    </tr>\n",
              "    <tr>\n",
              "      <th>num_outbound_cmds</th>\n",
              "      <td>125972.0</td>\n",
              "      <td>0.000000</td>\n",
              "      <td>0.000000e+00</td>\n",
              "      <td>0.0</td>\n",
              "      <td>0.00</td>\n",
              "      <td>0.00</td>\n",
              "      <td>0.00</td>\n",
              "      <td>0.000000e+00</td>\n",
              "    </tr>\n",
              "    <tr>\n",
              "      <th>is_host_login</th>\n",
              "      <td>125972.0</td>\n",
              "      <td>0.000008</td>\n",
              "      <td>2.817494e-03</td>\n",
              "      <td>0.0</td>\n",
              "      <td>0.00</td>\n",
              "      <td>0.00</td>\n",
              "      <td>0.00</td>\n",
              "      <td>1.000000e+00</td>\n",
              "    </tr>\n",
              "    <tr>\n",
              "      <th>is_guest_login</th>\n",
              "      <td>125972.0</td>\n",
              "      <td>0.009423</td>\n",
              "      <td>9.661271e-02</td>\n",
              "      <td>0.0</td>\n",
              "      <td>0.00</td>\n",
              "      <td>0.00</td>\n",
              "      <td>0.00</td>\n",
              "      <td>1.000000e+00</td>\n",
              "    </tr>\n",
              "    <tr>\n",
              "      <th>count</th>\n",
              "      <td>125972.0</td>\n",
              "      <td>84.108207</td>\n",
              "      <td>1.145088e+02</td>\n",
              "      <td>0.0</td>\n",
              "      <td>2.00</td>\n",
              "      <td>14.00</td>\n",
              "      <td>143.00</td>\n",
              "      <td>5.110000e+02</td>\n",
              "    </tr>\n",
              "    <tr>\n",
              "      <th>srv_count</th>\n",
              "      <td>125972.0</td>\n",
              "      <td>27.738093</td>\n",
              "      <td>7.263609e+01</td>\n",
              "      <td>0.0</td>\n",
              "      <td>2.00</td>\n",
              "      <td>8.00</td>\n",
              "      <td>18.00</td>\n",
              "      <td>5.110000e+02</td>\n",
              "    </tr>\n",
              "    <tr>\n",
              "      <th>serror_rate</th>\n",
              "      <td>125972.0</td>\n",
              "      <td>0.284487</td>\n",
              "      <td>4.464567e-01</td>\n",
              "      <td>0.0</td>\n",
              "      <td>0.00</td>\n",
              "      <td>0.00</td>\n",
              "      <td>1.00</td>\n",
              "      <td>1.000000e+00</td>\n",
              "    </tr>\n",
              "    <tr>\n",
              "      <th>srv_serror_rate</th>\n",
              "      <td>125972.0</td>\n",
              "      <td>0.282488</td>\n",
              "      <td>4.470236e-01</td>\n",
              "      <td>0.0</td>\n",
              "      <td>0.00</td>\n",
              "      <td>0.00</td>\n",
              "      <td>1.00</td>\n",
              "      <td>1.000000e+00</td>\n",
              "    </tr>\n",
              "    <tr>\n",
              "      <th>rerror_rate</th>\n",
              "      <td>125972.0</td>\n",
              "      <td>0.119959</td>\n",
              "      <td>3.204366e-01</td>\n",
              "      <td>0.0</td>\n",
              "      <td>0.00</td>\n",
              "      <td>0.00</td>\n",
              "      <td>0.00</td>\n",
              "      <td>1.000000e+00</td>\n",
              "    </tr>\n",
              "    <tr>\n",
              "      <th>srv_rerror_rate</th>\n",
              "      <td>125972.0</td>\n",
              "      <td>0.121184</td>\n",
              "      <td>3.236483e-01</td>\n",
              "      <td>0.0</td>\n",
              "      <td>0.00</td>\n",
              "      <td>0.00</td>\n",
              "      <td>0.00</td>\n",
              "      <td>1.000000e+00</td>\n",
              "    </tr>\n",
              "    <tr>\n",
              "      <th>same_srv_rate</th>\n",
              "      <td>125972.0</td>\n",
              "      <td>0.660925</td>\n",
              "      <td>4.396236e-01</td>\n",
              "      <td>0.0</td>\n",
              "      <td>0.09</td>\n",
              "      <td>1.00</td>\n",
              "      <td>1.00</td>\n",
              "      <td>1.000000e+00</td>\n",
              "    </tr>\n",
              "    <tr>\n",
              "      <th>diff_srv_rate</th>\n",
              "      <td>125972.0</td>\n",
              "      <td>0.063053</td>\n",
              "      <td>1.803150e-01</td>\n",
              "      <td>0.0</td>\n",
              "      <td>0.00</td>\n",
              "      <td>0.00</td>\n",
              "      <td>0.06</td>\n",
              "      <td>1.000000e+00</td>\n",
              "    </tr>\n",
              "    <tr>\n",
              "      <th>srv_diff_host_rate</th>\n",
              "      <td>125972.0</td>\n",
              "      <td>0.097322</td>\n",
              "      <td>2.598314e-01</td>\n",
              "      <td>0.0</td>\n",
              "      <td>0.00</td>\n",
              "      <td>0.00</td>\n",
              "      <td>0.00</td>\n",
              "      <td>1.000000e+00</td>\n",
              "    </tr>\n",
              "    <tr>\n",
              "      <th>dst_host_count</th>\n",
              "      <td>125972.0</td>\n",
              "      <td>182.149200</td>\n",
              "      <td>9.920657e+01</td>\n",
              "      <td>0.0</td>\n",
              "      <td>82.00</td>\n",
              "      <td>255.00</td>\n",
              "      <td>255.00</td>\n",
              "      <td>2.550000e+02</td>\n",
              "    </tr>\n",
              "    <tr>\n",
              "      <th>dst_host_srv_count</th>\n",
              "      <td>125972.0</td>\n",
              "      <td>115.653725</td>\n",
              "      <td>1.107029e+02</td>\n",
              "      <td>0.0</td>\n",
              "      <td>10.00</td>\n",
              "      <td>63.00</td>\n",
              "      <td>255.00</td>\n",
              "      <td>2.550000e+02</td>\n",
              "    </tr>\n",
              "    <tr>\n",
              "      <th>dst_host_same_srv_rate</th>\n",
              "      <td>125972.0</td>\n",
              "      <td>0.521244</td>\n",
              "      <td>4.489501e-01</td>\n",
              "      <td>0.0</td>\n",
              "      <td>0.05</td>\n",
              "      <td>0.51</td>\n",
              "      <td>1.00</td>\n",
              "      <td>1.000000e+00</td>\n",
              "    </tr>\n",
              "    <tr>\n",
              "      <th>dst_host_diff_srv_rate</th>\n",
              "      <td>125972.0</td>\n",
              "      <td>0.082952</td>\n",
              "      <td>1.889225e-01</td>\n",
              "      <td>0.0</td>\n",
              "      <td>0.00</td>\n",
              "      <td>0.02</td>\n",
              "      <td>0.07</td>\n",
              "      <td>1.000000e+00</td>\n",
              "    </tr>\n",
              "    <tr>\n",
              "      <th>dst_host_same_src_port_rate</th>\n",
              "      <td>125972.0</td>\n",
              "      <td>0.148379</td>\n",
              "      <td>3.089984e-01</td>\n",
              "      <td>0.0</td>\n",
              "      <td>0.00</td>\n",
              "      <td>0.00</td>\n",
              "      <td>0.06</td>\n",
              "      <td>1.000000e+00</td>\n",
              "    </tr>\n",
              "    <tr>\n",
              "      <th>dst_host_srv_diff_host_rate</th>\n",
              "      <td>125972.0</td>\n",
              "      <td>0.032543</td>\n",
              "      <td>1.125642e-01</td>\n",
              "      <td>0.0</td>\n",
              "      <td>0.00</td>\n",
              "      <td>0.00</td>\n",
              "      <td>0.02</td>\n",
              "      <td>1.000000e+00</td>\n",
              "    </tr>\n",
              "    <tr>\n",
              "      <th>dst_host_serror_rate</th>\n",
              "      <td>125972.0</td>\n",
              "      <td>0.284455</td>\n",
              "      <td>4.447851e-01</td>\n",
              "      <td>0.0</td>\n",
              "      <td>0.00</td>\n",
              "      <td>0.00</td>\n",
              "      <td>1.00</td>\n",
              "      <td>1.000000e+00</td>\n",
              "    </tr>\n",
              "    <tr>\n",
              "      <th>dst_host_srv_serror_rate</th>\n",
              "      <td>125972.0</td>\n",
              "      <td>0.278487</td>\n",
              "      <td>4.456702e-01</td>\n",
              "      <td>0.0</td>\n",
              "      <td>0.00</td>\n",
              "      <td>0.00</td>\n",
              "      <td>1.00</td>\n",
              "      <td>1.000000e+00</td>\n",
              "    </tr>\n",
              "    <tr>\n",
              "      <th>dst_host_rerror_rate</th>\n",
              "      <td>125972.0</td>\n",
              "      <td>0.118832</td>\n",
              "      <td>3.065586e-01</td>\n",
              "      <td>0.0</td>\n",
              "      <td>0.00</td>\n",
              "      <td>0.00</td>\n",
              "      <td>0.00</td>\n",
              "      <td>1.000000e+00</td>\n",
              "    </tr>\n",
              "    <tr>\n",
              "      <th>dst_host_srv_rerror_rate</th>\n",
              "      <td>125972.0</td>\n",
              "      <td>0.120241</td>\n",
              "      <td>3.194605e-01</td>\n",
              "      <td>0.0</td>\n",
              "      <td>0.00</td>\n",
              "      <td>0.00</td>\n",
              "      <td>0.00</td>\n",
              "      <td>1.000000e+00</td>\n",
              "    </tr>\n",
              "    <tr>\n",
              "      <th>level</th>\n",
              "      <td>125972.0</td>\n",
              "      <td>19.504056</td>\n",
              "      <td>2.291512e+00</td>\n",
              "      <td>0.0</td>\n",
              "      <td>18.00</td>\n",
              "      <td>20.00</td>\n",
              "      <td>21.00</td>\n",
              "      <td>2.100000e+01</td>\n",
              "    </tr>\n",
              "  </tbody>\n",
              "</table>\n",
              "</div>"
            ],
            "text/plain": [
              "                                count          mean           std  min    25%  \\\n",
              "duration                     125972.0    287.146929  2.604526e+03  0.0   0.00   \n",
              "src_bytes                    125972.0  45567.100824  5.870354e+06  0.0   0.00   \n",
              "dst_bytes                    125972.0  19779.271433  4.021285e+06  0.0   0.00   \n",
              "land                         125972.0      0.000198  1.408613e-02  0.0   0.00   \n",
              "wrong_fragment               125972.0      0.022688  2.535310e-01  0.0   0.00   \n",
              "urgent                       125972.0      0.000111  1.436608e-02  0.0   0.00   \n",
              "hot                          125972.0      0.204411  2.149977e+00  0.0   0.00   \n",
              "num_failed_logins            125972.0      0.001222  4.523932e-02  0.0   0.00   \n",
              "logged_in                    125972.0      0.395739  4.890107e-01  0.0   0.00   \n",
              "num_compromised              125972.0      0.279253  2.394214e+01  0.0   0.00   \n",
              "root_shell                   125972.0      0.001342  3.660299e-02  0.0   0.00   \n",
              "su_attempted                 125972.0      0.001103  4.515456e-02  0.0   0.00   \n",
              "num_root                     125972.0      0.302194  2.439971e+01  0.0   0.00   \n",
              "num_file_creations           125972.0      0.012669  4.839370e-01  0.0   0.00   \n",
              "num_shells                   125972.0      0.000413  2.218122e-02  0.0   0.00   \n",
              "num_access_files             125972.0      0.004096  9.936995e-02  0.0   0.00   \n",
              "num_outbound_cmds            125972.0      0.000000  0.000000e+00  0.0   0.00   \n",
              "is_host_login                125972.0      0.000008  2.817494e-03  0.0   0.00   \n",
              "is_guest_login               125972.0      0.009423  9.661271e-02  0.0   0.00   \n",
              "count                        125972.0     84.108207  1.145088e+02  0.0   2.00   \n",
              "srv_count                    125972.0     27.738093  7.263609e+01  0.0   2.00   \n",
              "serror_rate                  125972.0      0.284487  4.464567e-01  0.0   0.00   \n",
              "srv_serror_rate              125972.0      0.282488  4.470236e-01  0.0   0.00   \n",
              "rerror_rate                  125972.0      0.119959  3.204366e-01  0.0   0.00   \n",
              "srv_rerror_rate              125972.0      0.121184  3.236483e-01  0.0   0.00   \n",
              "same_srv_rate                125972.0      0.660925  4.396236e-01  0.0   0.09   \n",
              "diff_srv_rate                125972.0      0.063053  1.803150e-01  0.0   0.00   \n",
              "srv_diff_host_rate           125972.0      0.097322  2.598314e-01  0.0   0.00   \n",
              "dst_host_count               125972.0    182.149200  9.920657e+01  0.0  82.00   \n",
              "dst_host_srv_count           125972.0    115.653725  1.107029e+02  0.0  10.00   \n",
              "dst_host_same_srv_rate       125972.0      0.521244  4.489501e-01  0.0   0.05   \n",
              "dst_host_diff_srv_rate       125972.0      0.082952  1.889225e-01  0.0   0.00   \n",
              "dst_host_same_src_port_rate  125972.0      0.148379  3.089984e-01  0.0   0.00   \n",
              "dst_host_srv_diff_host_rate  125972.0      0.032543  1.125642e-01  0.0   0.00   \n",
              "dst_host_serror_rate         125972.0      0.284455  4.447851e-01  0.0   0.00   \n",
              "dst_host_srv_serror_rate     125972.0      0.278487  4.456702e-01  0.0   0.00   \n",
              "dst_host_rerror_rate         125972.0      0.118832  3.065586e-01  0.0   0.00   \n",
              "dst_host_srv_rerror_rate     125972.0      0.120241  3.194605e-01  0.0   0.00   \n",
              "level                        125972.0     19.504056  2.291512e+00  0.0  18.00   \n",
              "\n",
              "                                50%     75%           max  \n",
              "duration                       0.00    0.00  4.290800e+04  \n",
              "src_bytes                     44.00  276.00  1.379964e+09  \n",
              "dst_bytes                      0.00  516.00  1.309937e+09  \n",
              "land                           0.00    0.00  1.000000e+00  \n",
              "wrong_fragment                 0.00    0.00  3.000000e+00  \n",
              "urgent                         0.00    0.00  3.000000e+00  \n",
              "hot                            0.00    0.00  7.700000e+01  \n",
              "num_failed_logins              0.00    0.00  5.000000e+00  \n",
              "logged_in                      0.00    1.00  1.000000e+00  \n",
              "num_compromised                0.00    0.00  7.479000e+03  \n",
              "root_shell                     0.00    0.00  1.000000e+00  \n",
              "su_attempted                   0.00    0.00  2.000000e+00  \n",
              "num_root                       0.00    0.00  7.468000e+03  \n",
              "num_file_creations             0.00    0.00  4.300000e+01  \n",
              "num_shells                     0.00    0.00  2.000000e+00  \n",
              "num_access_files               0.00    0.00  9.000000e+00  \n",
              "num_outbound_cmds              0.00    0.00  0.000000e+00  \n",
              "is_host_login                  0.00    0.00  1.000000e+00  \n",
              "is_guest_login                 0.00    0.00  1.000000e+00  \n",
              "count                         14.00  143.00  5.110000e+02  \n",
              "srv_count                      8.00   18.00  5.110000e+02  \n",
              "serror_rate                    0.00    1.00  1.000000e+00  \n",
              "srv_serror_rate                0.00    1.00  1.000000e+00  \n",
              "rerror_rate                    0.00    0.00  1.000000e+00  \n",
              "srv_rerror_rate                0.00    0.00  1.000000e+00  \n",
              "same_srv_rate                  1.00    1.00  1.000000e+00  \n",
              "diff_srv_rate                  0.00    0.06  1.000000e+00  \n",
              "srv_diff_host_rate             0.00    0.00  1.000000e+00  \n",
              "dst_host_count               255.00  255.00  2.550000e+02  \n",
              "dst_host_srv_count            63.00  255.00  2.550000e+02  \n",
              "dst_host_same_srv_rate         0.51    1.00  1.000000e+00  \n",
              "dst_host_diff_srv_rate         0.02    0.07  1.000000e+00  \n",
              "dst_host_same_src_port_rate    0.00    0.06  1.000000e+00  \n",
              "dst_host_srv_diff_host_rate    0.00    0.02  1.000000e+00  \n",
              "dst_host_serror_rate           0.00    1.00  1.000000e+00  \n",
              "dst_host_srv_serror_rate       0.00    1.00  1.000000e+00  \n",
              "dst_host_rerror_rate           0.00    0.00  1.000000e+00  \n",
              "dst_host_srv_rerror_rate       0.00    0.00  1.000000e+00  \n",
              "level                         20.00   21.00  2.100000e+01  "
            ]
          },
          "execution_count": 4,
          "metadata": {},
          "output_type": "execute_result"
        }
      ],
      "source": [
        "df.describe().T"
      ]
    },
    {
      "cell_type": "code",
      "execution_count": null,
      "metadata": {
        "execution": {
          "iopub.execute_input": "2024-12-24T03:07:04.599257Z",
          "iopub.status.busy": "2024-12-24T03:07:04.598926Z",
          "iopub.status.idle": "2024-12-24T03:07:04.615208Z",
          "shell.execute_reply": "2024-12-24T03:07:04.613703Z",
          "shell.execute_reply.started": "2024-12-24T03:07:04.599230Z"
        },
        "trusted": true,
        "id": "GwuePOyPclX4"
      },
      "outputs": [],
      "source": [
        "df = df.drop('level', axis=1)"
      ]
    },
    {
      "cell_type": "markdown",
      "metadata": {
        "id": "gBUmAPJmclX5"
      },
      "source": [
        "# Matching Attack Label to their Class"
      ]
    },
    {
      "cell_type": "code",
      "execution_count": null,
      "metadata": {
        "execution": {
          "iopub.execute_input": "2024-12-24T03:07:04.616786Z",
          "iopub.status.busy": "2024-12-24T03:07:04.616433Z",
          "iopub.status.idle": "2024-12-24T03:07:04.630331Z",
          "shell.execute_reply": "2024-12-24T03:07:04.629025Z",
          "shell.execute_reply.started": "2024-12-24T03:07:04.616750Z"
        },
        "trusted": true,
        "id": "Kex_KNGMclX6",
        "outputId": "316a2ebc-f430-4420-e0b9-69f4bdd684d8"
      },
      "outputs": [
        {
          "data": {
            "text/plain": [
              "array(['normal', 'neptune', 'warezclient', 'ipsweep', 'portsweep',\n",
              "       'teardrop', 'nmap', 'satan', 'smurf', 'pod', 'back',\n",
              "       'guess_passwd', 'ftp_write', 'multihop', 'rootkit',\n",
              "       'buffer_overflow', 'imap', 'warezmaster', 'phf', 'land',\n",
              "       'loadmodule', 'spy', 'perl'], dtype=object)"
            ]
          },
          "execution_count": 6,
          "metadata": {},
          "output_type": "execute_result"
        }
      ],
      "source": [
        "df['attack'].unique()"
      ]
    },
    {
      "cell_type": "code",
      "execution_count": null,
      "metadata": {
        "execution": {
          "iopub.execute_input": "2024-12-24T03:07:04.633557Z",
          "iopub.status.busy": "2024-12-24T03:07:04.633160Z",
          "iopub.status.idle": "2024-12-24T03:07:04.641075Z",
          "shell.execute_reply": "2024-12-24T03:07:04.639692Z",
          "shell.execute_reply.started": "2024-12-24T03:07:04.633524Z"
        },
        "trusted": true,
        "id": "OjLE5rQQclX9"
      },
      "outputs": [],
      "source": [
        "def change_label(df):\n",
        "    df.attack.replace(['apache2','back','land','neptune','mailbomb','pod','processtable','smurf','teardrop','udpstorm','worm'],'Dos',inplace=True)\n",
        "    df.attack.replace(['ftp_write','guess_passwd','httptunnel','imap','multihop','named','phf','sendmail','snmpgetattack','snmpguess','spy','warezclient','warezmaster','xlock','xsnoop'],'R2L',inplace=True)\n",
        "    df.attack.replace(['ipsweep','mscan','nmap','portsweep','saint','satan'],'Probe',inplace=True)\n",
        "    df.attack.replace(['buffer_overflow','loadmodule','perl','ps','rootkit','sqlattack','xterm'],'U2R',inplace=True)"
      ]
    },
    {
      "cell_type": "code",
      "execution_count": null,
      "metadata": {
        "execution": {
          "iopub.execute_input": "2024-12-24T03:07:04.642882Z",
          "iopub.status.busy": "2024-12-24T03:07:04.642497Z",
          "iopub.status.idle": "2024-12-24T03:07:04.828231Z",
          "shell.execute_reply": "2024-12-24T03:07:04.827062Z",
          "shell.execute_reply.started": "2024-12-24T03:07:04.642854Z"
        },
        "trusted": true,
        "id": "cSyEF9ghclX-",
        "outputId": "8555a7e1-e470-4682-b683-b0bc5dd81e26"
      },
      "outputs": [
        {
          "data": {
            "text/plain": [
              "array(['normal', 'Dos', 'R2L', 'Probe', 'U2R'], dtype=object)"
            ]
          },
          "execution_count": 8,
          "metadata": {},
          "output_type": "execute_result"
        }
      ],
      "source": [
        "change_label(df)\n",
        "df.attack.unique()"
      ]
    },
    {
      "cell_type": "code",
      "execution_count": null,
      "metadata": {
        "id": "Q2IvpK8YclYA",
        "outputId": "7edb8b86-a9ba-4f62-8c7f-b92b99695916"
      },
      "outputs": [
        {
          "data": {
            "text/plain": [
              "(125972, 42)"
            ]
          },
          "execution_count": 9,
          "metadata": {},
          "output_type": "execute_result"
        }
      ],
      "source": [
        "df.shape"
      ]
    },
    {
      "cell_type": "code",
      "execution_count": null,
      "metadata": {
        "execution": {
          "iopub.execute_input": "2024-12-24T03:07:04.830055Z",
          "iopub.status.busy": "2024-12-24T03:07:04.829625Z",
          "iopub.status.idle": "2024-12-24T03:07:04.847932Z",
          "shell.execute_reply": "2024-12-24T03:07:04.846796Z",
          "shell.execute_reply.started": "2024-12-24T03:07:04.830016Z"
        },
        "trusted": true,
        "id": "LVwxDjSgclYB",
        "outputId": "287ec068-955e-47c7-e7a4-c3c8027ed523"
      },
      "outputs": [
        {
          "data": {
            "text/plain": [
              "normal    67342\n",
              "Dos       45927\n",
              "Probe     11656\n",
              "R2L         995\n",
              "U2R          52\n",
              "Name: attack, dtype: int64"
            ]
          },
          "execution_count": 10,
          "metadata": {},
          "output_type": "execute_result"
        }
      ],
      "source": [
        "df.attack.value_counts()"
      ]
    },
    {
      "cell_type": "code",
      "execution_count": null,
      "metadata": {
        "execution": {
          "iopub.execute_input": "2024-12-24T03:07:04.849650Z",
          "iopub.status.busy": "2024-12-24T03:07:04.849331Z",
          "iopub.status.idle": "2024-12-24T03:07:06.419276Z",
          "shell.execute_reply": "2024-12-24T03:07:06.418156Z",
          "shell.execute_reply.started": "2024-12-24T03:07:04.849622Z"
        },
        "trusted": true,
        "id": "z3rN_SH2clYC",
        "outputId": "d12f6b12-684a-4fe7-dd40-e86b0b603490"
      },
      "outputs": [
        {
          "data": {
            "application/vnd.plotly.v1+json": {
              "config": {
                "linkText": "Export to plot.ly",
                "plotlyServerURL": "https://plot.ly",
                "showLink": false
              },
              "data": [
                {
                  "name": "normal",
                  "orientation": "v",
                  "text": [
                    67342
                  ],
                  "textposition": "outside",
                  "type": "bar",
                  "x": [
                    "normal"
                  ],
                  "y": [
                    67342
                  ]
                },
                {
                  "name": "Dos",
                  "orientation": "v",
                  "text": [
                    45927
                  ],
                  "textposition": "outside",
                  "type": "bar",
                  "x": [
                    "Dos"
                  ],
                  "y": [
                    45927
                  ]
                },
                {
                  "name": "Probe",
                  "orientation": "v",
                  "text": [
                    11656
                  ],
                  "textposition": "outside",
                  "type": "bar",
                  "x": [
                    "Probe"
                  ],
                  "y": [
                    11656
                  ]
                },
                {
                  "name": "R2L",
                  "orientation": "v",
                  "text": [
                    995
                  ],
                  "textposition": "outside",
                  "type": "bar",
                  "x": [
                    "R2L"
                  ],
                  "y": [
                    995
                  ]
                },
                {
                  "name": "U2R",
                  "orientation": "v",
                  "text": [
                    52
                  ],
                  "textposition": "outside",
                  "type": "bar",
                  "x": [
                    "U2R"
                  ],
                  "y": [
                    52
                  ]
                }
              ],
              "layout": {
                "height": 600,
                "template": {
                  "data": {
                    "bar": [
                      {
                        "error_x": {
                          "color": "#2a3f5f"
                        },
                        "error_y": {
                          "color": "#2a3f5f"
                        },
                        "marker": {
                          "line": {
                            "color": "#E5ECF6",
                            "width": 0.5
                          },
                          "pattern": {
                            "fillmode": "overlay",
                            "size": 10,
                            "solidity": 0.2
                          }
                        },
                        "type": "bar"
                      }
                    ],
                    "barpolar": [
                      {
                        "marker": {
                          "line": {
                            "color": "#E5ECF6",
                            "width": 0.5
                          },
                          "pattern": {
                            "fillmode": "overlay",
                            "size": 10,
                            "solidity": 0.2
                          }
                        },
                        "type": "barpolar"
                      }
                    ],
                    "carpet": [
                      {
                        "aaxis": {
                          "endlinecolor": "#2a3f5f",
                          "gridcolor": "white",
                          "linecolor": "white",
                          "minorgridcolor": "white",
                          "startlinecolor": "#2a3f5f"
                        },
                        "baxis": {
                          "endlinecolor": "#2a3f5f",
                          "gridcolor": "white",
                          "linecolor": "white",
                          "minorgridcolor": "white",
                          "startlinecolor": "#2a3f5f"
                        },
                        "type": "carpet"
                      }
                    ],
                    "choropleth": [
                      {
                        "colorbar": {
                          "outlinewidth": 0,
                          "ticks": ""
                        },
                        "type": "choropleth"
                      }
                    ],
                    "contour": [
                      {
                        "colorbar": {
                          "outlinewidth": 0,
                          "ticks": ""
                        },
                        "colorscale": [
                          [
                            0,
                            "#0d0887"
                          ],
                          [
                            0.1111111111111111,
                            "#46039f"
                          ],
                          [
                            0.2222222222222222,
                            "#7201a8"
                          ],
                          [
                            0.3333333333333333,
                            "#9c179e"
                          ],
                          [
                            0.4444444444444444,
                            "#bd3786"
                          ],
                          [
                            0.5555555555555556,
                            "#d8576b"
                          ],
                          [
                            0.6666666666666666,
                            "#ed7953"
                          ],
                          [
                            0.7777777777777778,
                            "#fb9f3a"
                          ],
                          [
                            0.8888888888888888,
                            "#fdca26"
                          ],
                          [
                            1,
                            "#f0f921"
                          ]
                        ],
                        "type": "contour"
                      }
                    ],
                    "contourcarpet": [
                      {
                        "colorbar": {
                          "outlinewidth": 0,
                          "ticks": ""
                        },
                        "type": "contourcarpet"
                      }
                    ],
                    "heatmap": [
                      {
                        "colorbar": {
                          "outlinewidth": 0,
                          "ticks": ""
                        },
                        "colorscale": [
                          [
                            0,
                            "#0d0887"
                          ],
                          [
                            0.1111111111111111,
                            "#46039f"
                          ],
                          [
                            0.2222222222222222,
                            "#7201a8"
                          ],
                          [
                            0.3333333333333333,
                            "#9c179e"
                          ],
                          [
                            0.4444444444444444,
                            "#bd3786"
                          ],
                          [
                            0.5555555555555556,
                            "#d8576b"
                          ],
                          [
                            0.6666666666666666,
                            "#ed7953"
                          ],
                          [
                            0.7777777777777778,
                            "#fb9f3a"
                          ],
                          [
                            0.8888888888888888,
                            "#fdca26"
                          ],
                          [
                            1,
                            "#f0f921"
                          ]
                        ],
                        "type": "heatmap"
                      }
                    ],
                    "heatmapgl": [
                      {
                        "colorbar": {
                          "outlinewidth": 0,
                          "ticks": ""
                        },
                        "colorscale": [
                          [
                            0,
                            "#0d0887"
                          ],
                          [
                            0.1111111111111111,
                            "#46039f"
                          ],
                          [
                            0.2222222222222222,
                            "#7201a8"
                          ],
                          [
                            0.3333333333333333,
                            "#9c179e"
                          ],
                          [
                            0.4444444444444444,
                            "#bd3786"
                          ],
                          [
                            0.5555555555555556,
                            "#d8576b"
                          ],
                          [
                            0.6666666666666666,
                            "#ed7953"
                          ],
                          [
                            0.7777777777777778,
                            "#fb9f3a"
                          ],
                          [
                            0.8888888888888888,
                            "#fdca26"
                          ],
                          [
                            1,
                            "#f0f921"
                          ]
                        ],
                        "type": "heatmapgl"
                      }
                    ],
                    "histogram": [
                      {
                        "marker": {
                          "pattern": {
                            "fillmode": "overlay",
                            "size": 10,
                            "solidity": 0.2
                          }
                        },
                        "type": "histogram"
                      }
                    ],
                    "histogram2d": [
                      {
                        "colorbar": {
                          "outlinewidth": 0,
                          "ticks": ""
                        },
                        "colorscale": [
                          [
                            0,
                            "#0d0887"
                          ],
                          [
                            0.1111111111111111,
                            "#46039f"
                          ],
                          [
                            0.2222222222222222,
                            "#7201a8"
                          ],
                          [
                            0.3333333333333333,
                            "#9c179e"
                          ],
                          [
                            0.4444444444444444,
                            "#bd3786"
                          ],
                          [
                            0.5555555555555556,
                            "#d8576b"
                          ],
                          [
                            0.6666666666666666,
                            "#ed7953"
                          ],
                          [
                            0.7777777777777778,
                            "#fb9f3a"
                          ],
                          [
                            0.8888888888888888,
                            "#fdca26"
                          ],
                          [
                            1,
                            "#f0f921"
                          ]
                        ],
                        "type": "histogram2d"
                      }
                    ],
                    "histogram2dcontour": [
                      {
                        "colorbar": {
                          "outlinewidth": 0,
                          "ticks": ""
                        },
                        "colorscale": [
                          [
                            0,
                            "#0d0887"
                          ],
                          [
                            0.1111111111111111,
                            "#46039f"
                          ],
                          [
                            0.2222222222222222,
                            "#7201a8"
                          ],
                          [
                            0.3333333333333333,
                            "#9c179e"
                          ],
                          [
                            0.4444444444444444,
                            "#bd3786"
                          ],
                          [
                            0.5555555555555556,
                            "#d8576b"
                          ],
                          [
                            0.6666666666666666,
                            "#ed7953"
                          ],
                          [
                            0.7777777777777778,
                            "#fb9f3a"
                          ],
                          [
                            0.8888888888888888,
                            "#fdca26"
                          ],
                          [
                            1,
                            "#f0f921"
                          ]
                        ],
                        "type": "histogram2dcontour"
                      }
                    ],
                    "mesh3d": [
                      {
                        "colorbar": {
                          "outlinewidth": 0,
                          "ticks": ""
                        },
                        "type": "mesh3d"
                      }
                    ],
                    "parcoords": [
                      {
                        "line": {
                          "colorbar": {
                            "outlinewidth": 0,
                            "ticks": ""
                          }
                        },
                        "type": "parcoords"
                      }
                    ],
                    "pie": [
                      {
                        "automargin": true,
                        "type": "pie"
                      }
                    ],
                    "scatter": [
                      {
                        "fillpattern": {
                          "fillmode": "overlay",
                          "size": 10,
                          "solidity": 0.2
                        },
                        "type": "scatter"
                      }
                    ],
                    "scatter3d": [
                      {
                        "line": {
                          "colorbar": {
                            "outlinewidth": 0,
                            "ticks": ""
                          }
                        },
                        "marker": {
                          "colorbar": {
                            "outlinewidth": 0,
                            "ticks": ""
                          }
                        },
                        "type": "scatter3d"
                      }
                    ],
                    "scattercarpet": [
                      {
                        "marker": {
                          "colorbar": {
                            "outlinewidth": 0,
                            "ticks": ""
                          }
                        },
                        "type": "scattercarpet"
                      }
                    ],
                    "scattergeo": [
                      {
                        "marker": {
                          "colorbar": {
                            "outlinewidth": 0,
                            "ticks": ""
                          }
                        },
                        "type": "scattergeo"
                      }
                    ],
                    "scattergl": [
                      {
                        "marker": {
                          "colorbar": {
                            "outlinewidth": 0,
                            "ticks": ""
                          }
                        },
                        "type": "scattergl"
                      }
                    ],
                    "scattermapbox": [
                      {
                        "marker": {
                          "colorbar": {
                            "outlinewidth": 0,
                            "ticks": ""
                          }
                        },
                        "type": "scattermapbox"
                      }
                    ],
                    "scatterpolar": [
                      {
                        "marker": {
                          "colorbar": {
                            "outlinewidth": 0,
                            "ticks": ""
                          }
                        },
                        "type": "scatterpolar"
                      }
                    ],
                    "scatterpolargl": [
                      {
                        "marker": {
                          "colorbar": {
                            "outlinewidth": 0,
                            "ticks": ""
                          }
                        },
                        "type": "scatterpolargl"
                      }
                    ],
                    "scatterternary": [
                      {
                        "marker": {
                          "colorbar": {
                            "outlinewidth": 0,
                            "ticks": ""
                          }
                        },
                        "type": "scatterternary"
                      }
                    ],
                    "surface": [
                      {
                        "colorbar": {
                          "outlinewidth": 0,
                          "ticks": ""
                        },
                        "colorscale": [
                          [
                            0,
                            "#0d0887"
                          ],
                          [
                            0.1111111111111111,
                            "#46039f"
                          ],
                          [
                            0.2222222222222222,
                            "#7201a8"
                          ],
                          [
                            0.3333333333333333,
                            "#9c179e"
                          ],
                          [
                            0.4444444444444444,
                            "#bd3786"
                          ],
                          [
                            0.5555555555555556,
                            "#d8576b"
                          ],
                          [
                            0.6666666666666666,
                            "#ed7953"
                          ],
                          [
                            0.7777777777777778,
                            "#fb9f3a"
                          ],
                          [
                            0.8888888888888888,
                            "#fdca26"
                          ],
                          [
                            1,
                            "#f0f921"
                          ]
                        ],
                        "type": "surface"
                      }
                    ],
                    "table": [
                      {
                        "cells": {
                          "fill": {
                            "color": "#EBF0F8"
                          },
                          "line": {
                            "color": "white"
                          }
                        },
                        "header": {
                          "fill": {
                            "color": "#C8D4E3"
                          },
                          "line": {
                            "color": "white"
                          }
                        },
                        "type": "table"
                      }
                    ]
                  },
                  "layout": {
                    "annotationdefaults": {
                      "arrowcolor": "#2a3f5f",
                      "arrowhead": 0,
                      "arrowwidth": 1
                    },
                    "autotypenumbers": "strict",
                    "coloraxis": {
                      "colorbar": {
                        "outlinewidth": 0,
                        "ticks": ""
                      }
                    },
                    "colorscale": {
                      "diverging": [
                        [
                          0,
                          "#8e0152"
                        ],
                        [
                          0.1,
                          "#c51b7d"
                        ],
                        [
                          0.2,
                          "#de77ae"
                        ],
                        [
                          0.3,
                          "#f1b6da"
                        ],
                        [
                          0.4,
                          "#fde0ef"
                        ],
                        [
                          0.5,
                          "#f7f7f7"
                        ],
                        [
                          0.6,
                          "#e6f5d0"
                        ],
                        [
                          0.7,
                          "#b8e186"
                        ],
                        [
                          0.8,
                          "#7fbc41"
                        ],
                        [
                          0.9,
                          "#4d9221"
                        ],
                        [
                          1,
                          "#276419"
                        ]
                      ],
                      "sequential": [
                        [
                          0,
                          "#0d0887"
                        ],
                        [
                          0.1111111111111111,
                          "#46039f"
                        ],
                        [
                          0.2222222222222222,
                          "#7201a8"
                        ],
                        [
                          0.3333333333333333,
                          "#9c179e"
                        ],
                        [
                          0.4444444444444444,
                          "#bd3786"
                        ],
                        [
                          0.5555555555555556,
                          "#d8576b"
                        ],
                        [
                          0.6666666666666666,
                          "#ed7953"
                        ],
                        [
                          0.7777777777777778,
                          "#fb9f3a"
                        ],
                        [
                          0.8888888888888888,
                          "#fdca26"
                        ],
                        [
                          1,
                          "#f0f921"
                        ]
                      ],
                      "sequentialminus": [
                        [
                          0,
                          "#0d0887"
                        ],
                        [
                          0.1111111111111111,
                          "#46039f"
                        ],
                        [
                          0.2222222222222222,
                          "#7201a8"
                        ],
                        [
                          0.3333333333333333,
                          "#9c179e"
                        ],
                        [
                          0.4444444444444444,
                          "#bd3786"
                        ],
                        [
                          0.5555555555555556,
                          "#d8576b"
                        ],
                        [
                          0.6666666666666666,
                          "#ed7953"
                        ],
                        [
                          0.7777777777777778,
                          "#fb9f3a"
                        ],
                        [
                          0.8888888888888888,
                          "#fdca26"
                        ],
                        [
                          1,
                          "#f0f921"
                        ]
                      ]
                    },
                    "colorway": [
                      "#636efa",
                      "#EF553B",
                      "#00cc96",
                      "#ab63fa",
                      "#FFA15A",
                      "#19d3f3",
                      "#FF6692",
                      "#B6E880",
                      "#FF97FF",
                      "#FECB52"
                    ],
                    "font": {
                      "color": "#2a3f5f"
                    },
                    "geo": {
                      "bgcolor": "white",
                      "lakecolor": "white",
                      "landcolor": "#E5ECF6",
                      "showlakes": true,
                      "showland": true,
                      "subunitcolor": "white"
                    },
                    "hoverlabel": {
                      "align": "left"
                    },
                    "hovermode": "closest",
                    "mapbox": {
                      "style": "light"
                    },
                    "paper_bgcolor": "white",
                    "plot_bgcolor": "#E5ECF6",
                    "polar": {
                      "angularaxis": {
                        "gridcolor": "white",
                        "linecolor": "white",
                        "ticks": ""
                      },
                      "bgcolor": "#E5ECF6",
                      "radialaxis": {
                        "gridcolor": "white",
                        "linecolor": "white",
                        "ticks": ""
                      }
                    },
                    "scene": {
                      "xaxis": {
                        "backgroundcolor": "#E5ECF6",
                        "gridcolor": "white",
                        "gridwidth": 2,
                        "linecolor": "white",
                        "showbackground": true,
                        "ticks": "",
                        "zerolinecolor": "white"
                      },
                      "yaxis": {
                        "backgroundcolor": "#E5ECF6",
                        "gridcolor": "white",
                        "gridwidth": 2,
                        "linecolor": "white",
                        "showbackground": true,
                        "ticks": "",
                        "zerolinecolor": "white"
                      },
                      "zaxis": {
                        "backgroundcolor": "#E5ECF6",
                        "gridcolor": "white",
                        "gridwidth": 2,
                        "linecolor": "white",
                        "showbackground": true,
                        "ticks": "",
                        "zerolinecolor": "white"
                      }
                    },
                    "shapedefaults": {
                      "line": {
                        "color": "#2a3f5f"
                      }
                    },
                    "ternary": {
                      "aaxis": {
                        "gridcolor": "white",
                        "linecolor": "white",
                        "ticks": ""
                      },
                      "baxis": {
                        "gridcolor": "white",
                        "linecolor": "white",
                        "ticks": ""
                      },
                      "bgcolor": "#E5ECF6",
                      "caxis": {
                        "gridcolor": "white",
                        "linecolor": "white",
                        "ticks": ""
                      }
                    },
                    "title": {
                      "x": 0.05
                    },
                    "xaxis": {
                      "automargin": true,
                      "gridcolor": "white",
                      "linecolor": "white",
                      "ticks": "",
                      "title": {
                        "standoff": 15
                      },
                      "zerolinecolor": "white",
                      "zerolinewidth": 2
                    },
                    "yaxis": {
                      "automargin": true,
                      "gridcolor": "white",
                      "linecolor": "white",
                      "ticks": "",
                      "title": {
                        "standoff": 15
                      },
                      "zerolinecolor": "white",
                      "zerolinewidth": 2
                    }
                  }
                },
                "title": {
                  "text": "Attack Class Distribution"
                },
                "width": 800,
                "xaxis": {
                  "title": {
                    "text": "Attack Class"
                  }
                },
                "yaxis": {
                  "title": {
                    "text": "Number of attacks"
                  }
                }
              }
            },
            "text/html": [
              "<div>                            <div id=\"303f47cb-f1a3-4b2c-ad8b-0fc49bce67d8\" class=\"plotly-graph-div\" style=\"height:600px; width:800px;\"></div>            <script type=\"text/javascript\">                require([\"plotly\"], function(Plotly) {                    window.PLOTLYENV=window.PLOTLYENV || {};                                    if (document.getElementById(\"303f47cb-f1a3-4b2c-ad8b-0fc49bce67d8\")) {                    Plotly.newPlot(                        \"303f47cb-f1a3-4b2c-ad8b-0fc49bce67d8\",                        [{\"name\":\"normal\",\"orientation\":\"v\",\"text\":[67342.0],\"textposition\":\"outside\",\"x\":[\"normal\"],\"y\":[67342],\"type\":\"bar\"},{\"name\":\"Dos\",\"orientation\":\"v\",\"text\":[45927.0],\"textposition\":\"outside\",\"x\":[\"Dos\"],\"y\":[45927],\"type\":\"bar\"},{\"name\":\"Probe\",\"orientation\":\"v\",\"text\":[11656.0],\"textposition\":\"outside\",\"x\":[\"Probe\"],\"y\":[11656],\"type\":\"bar\"},{\"name\":\"R2L\",\"orientation\":\"v\",\"text\":[995.0],\"textposition\":\"outside\",\"x\":[\"R2L\"],\"y\":[995],\"type\":\"bar\"},{\"name\":\"U2R\",\"orientation\":\"v\",\"text\":[52.0],\"textposition\":\"outside\",\"x\":[\"U2R\"],\"y\":[52],\"type\":\"bar\"}],                        {\"height\":600,\"template\":{\"data\":{\"barpolar\":[{\"marker\":{\"line\":{\"color\":\"#E5ECF6\",\"width\":0.5},\"pattern\":{\"fillmode\":\"overlay\",\"size\":10,\"solidity\":0.2}},\"type\":\"barpolar\"}],\"bar\":[{\"error_x\":{\"color\":\"#2a3f5f\"},\"error_y\":{\"color\":\"#2a3f5f\"},\"marker\":{\"line\":{\"color\":\"#E5ECF6\",\"width\":0.5},\"pattern\":{\"fillmode\":\"overlay\",\"size\":10,\"solidity\":0.2}},\"type\":\"bar\"}],\"carpet\":[{\"aaxis\":{\"endlinecolor\":\"#2a3f5f\",\"gridcolor\":\"white\",\"linecolor\":\"white\",\"minorgridcolor\":\"white\",\"startlinecolor\":\"#2a3f5f\"},\"baxis\":{\"endlinecolor\":\"#2a3f5f\",\"gridcolor\":\"white\",\"linecolor\":\"white\",\"minorgridcolor\":\"white\",\"startlinecolor\":\"#2a3f5f\"},\"type\":\"carpet\"}],\"choropleth\":[{\"colorbar\":{\"outlinewidth\":0,\"ticks\":\"\"},\"type\":\"choropleth\"}],\"contourcarpet\":[{\"colorbar\":{\"outlinewidth\":0,\"ticks\":\"\"},\"type\":\"contourcarpet\"}],\"contour\":[{\"colorbar\":{\"outlinewidth\":0,\"ticks\":\"\"},\"colorscale\":[[0.0,\"#0d0887\"],[0.1111111111111111,\"#46039f\"],[0.2222222222222222,\"#7201a8\"],[0.3333333333333333,\"#9c179e\"],[0.4444444444444444,\"#bd3786\"],[0.5555555555555556,\"#d8576b\"],[0.6666666666666666,\"#ed7953\"],[0.7777777777777778,\"#fb9f3a\"],[0.8888888888888888,\"#fdca26\"],[1.0,\"#f0f921\"]],\"type\":\"contour\"}],\"heatmapgl\":[{\"colorbar\":{\"outlinewidth\":0,\"ticks\":\"\"},\"colorscale\":[[0.0,\"#0d0887\"],[0.1111111111111111,\"#46039f\"],[0.2222222222222222,\"#7201a8\"],[0.3333333333333333,\"#9c179e\"],[0.4444444444444444,\"#bd3786\"],[0.5555555555555556,\"#d8576b\"],[0.6666666666666666,\"#ed7953\"],[0.7777777777777778,\"#fb9f3a\"],[0.8888888888888888,\"#fdca26\"],[1.0,\"#f0f921\"]],\"type\":\"heatmapgl\"}],\"heatmap\":[{\"colorbar\":{\"outlinewidth\":0,\"ticks\":\"\"},\"colorscale\":[[0.0,\"#0d0887\"],[0.1111111111111111,\"#46039f\"],[0.2222222222222222,\"#7201a8\"],[0.3333333333333333,\"#9c179e\"],[0.4444444444444444,\"#bd3786\"],[0.5555555555555556,\"#d8576b\"],[0.6666666666666666,\"#ed7953\"],[0.7777777777777778,\"#fb9f3a\"],[0.8888888888888888,\"#fdca26\"],[1.0,\"#f0f921\"]],\"type\":\"heatmap\"}],\"histogram2dcontour\":[{\"colorbar\":{\"outlinewidth\":0,\"ticks\":\"\"},\"colorscale\":[[0.0,\"#0d0887\"],[0.1111111111111111,\"#46039f\"],[0.2222222222222222,\"#7201a8\"],[0.3333333333333333,\"#9c179e\"],[0.4444444444444444,\"#bd3786\"],[0.5555555555555556,\"#d8576b\"],[0.6666666666666666,\"#ed7953\"],[0.7777777777777778,\"#fb9f3a\"],[0.8888888888888888,\"#fdca26\"],[1.0,\"#f0f921\"]],\"type\":\"histogram2dcontour\"}],\"histogram2d\":[{\"colorbar\":{\"outlinewidth\":0,\"ticks\":\"\"},\"colorscale\":[[0.0,\"#0d0887\"],[0.1111111111111111,\"#46039f\"],[0.2222222222222222,\"#7201a8\"],[0.3333333333333333,\"#9c179e\"],[0.4444444444444444,\"#bd3786\"],[0.5555555555555556,\"#d8576b\"],[0.6666666666666666,\"#ed7953\"],[0.7777777777777778,\"#fb9f3a\"],[0.8888888888888888,\"#fdca26\"],[1.0,\"#f0f921\"]],\"type\":\"histogram2d\"}],\"histogram\":[{\"marker\":{\"pattern\":{\"fillmode\":\"overlay\",\"size\":10,\"solidity\":0.2}},\"type\":\"histogram\"}],\"mesh3d\":[{\"colorbar\":{\"outlinewidth\":0,\"ticks\":\"\"},\"type\":\"mesh3d\"}],\"parcoords\":[{\"line\":{\"colorbar\":{\"outlinewidth\":0,\"ticks\":\"\"}},\"type\":\"parcoords\"}],\"pie\":[{\"automargin\":true,\"type\":\"pie\"}],\"scatter3d\":[{\"line\":{\"colorbar\":{\"outlinewidth\":0,\"ticks\":\"\"}},\"marker\":{\"colorbar\":{\"outlinewidth\":0,\"ticks\":\"\"}},\"type\":\"scatter3d\"}],\"scattercarpet\":[{\"marker\":{\"colorbar\":{\"outlinewidth\":0,\"ticks\":\"\"}},\"type\":\"scattercarpet\"}],\"scattergeo\":[{\"marker\":{\"colorbar\":{\"outlinewidth\":0,\"ticks\":\"\"}},\"type\":\"scattergeo\"}],\"scattergl\":[{\"marker\":{\"colorbar\":{\"outlinewidth\":0,\"ticks\":\"\"}},\"type\":\"scattergl\"}],\"scattermapbox\":[{\"marker\":{\"colorbar\":{\"outlinewidth\":0,\"ticks\":\"\"}},\"type\":\"scattermapbox\"}],\"scatterpolargl\":[{\"marker\":{\"colorbar\":{\"outlinewidth\":0,\"ticks\":\"\"}},\"type\":\"scatterpolargl\"}],\"scatterpolar\":[{\"marker\":{\"colorbar\":{\"outlinewidth\":0,\"ticks\":\"\"}},\"type\":\"scatterpolar\"}],\"scatter\":[{\"fillpattern\":{\"fillmode\":\"overlay\",\"size\":10,\"solidity\":0.2},\"type\":\"scatter\"}],\"scatterternary\":[{\"marker\":{\"colorbar\":{\"outlinewidth\":0,\"ticks\":\"\"}},\"type\":\"scatterternary\"}],\"surface\":[{\"colorbar\":{\"outlinewidth\":0,\"ticks\":\"\"},\"colorscale\":[[0.0,\"#0d0887\"],[0.1111111111111111,\"#46039f\"],[0.2222222222222222,\"#7201a8\"],[0.3333333333333333,\"#9c179e\"],[0.4444444444444444,\"#bd3786\"],[0.5555555555555556,\"#d8576b\"],[0.6666666666666666,\"#ed7953\"],[0.7777777777777778,\"#fb9f3a\"],[0.8888888888888888,\"#fdca26\"],[1.0,\"#f0f921\"]],\"type\":\"surface\"}],\"table\":[{\"cells\":{\"fill\":{\"color\":\"#EBF0F8\"},\"line\":{\"color\":\"white\"}},\"header\":{\"fill\":{\"color\":\"#C8D4E3\"},\"line\":{\"color\":\"white\"}},\"type\":\"table\"}]},\"layout\":{\"annotationdefaults\":{\"arrowcolor\":\"#2a3f5f\",\"arrowhead\":0,\"arrowwidth\":1},\"autotypenumbers\":\"strict\",\"coloraxis\":{\"colorbar\":{\"outlinewidth\":0,\"ticks\":\"\"}},\"colorscale\":{\"diverging\":[[0,\"#8e0152\"],[0.1,\"#c51b7d\"],[0.2,\"#de77ae\"],[0.3,\"#f1b6da\"],[0.4,\"#fde0ef\"],[0.5,\"#f7f7f7\"],[0.6,\"#e6f5d0\"],[0.7,\"#b8e186\"],[0.8,\"#7fbc41\"],[0.9,\"#4d9221\"],[1,\"#276419\"]],\"sequential\":[[0.0,\"#0d0887\"],[0.1111111111111111,\"#46039f\"],[0.2222222222222222,\"#7201a8\"],[0.3333333333333333,\"#9c179e\"],[0.4444444444444444,\"#bd3786\"],[0.5555555555555556,\"#d8576b\"],[0.6666666666666666,\"#ed7953\"],[0.7777777777777778,\"#fb9f3a\"],[0.8888888888888888,\"#fdca26\"],[1.0,\"#f0f921\"]],\"sequentialminus\":[[0.0,\"#0d0887\"],[0.1111111111111111,\"#46039f\"],[0.2222222222222222,\"#7201a8\"],[0.3333333333333333,\"#9c179e\"],[0.4444444444444444,\"#bd3786\"],[0.5555555555555556,\"#d8576b\"],[0.6666666666666666,\"#ed7953\"],[0.7777777777777778,\"#fb9f3a\"],[0.8888888888888888,\"#fdca26\"],[1.0,\"#f0f921\"]]},\"colorway\":[\"#636efa\",\"#EF553B\",\"#00cc96\",\"#ab63fa\",\"#FFA15A\",\"#19d3f3\",\"#FF6692\",\"#B6E880\",\"#FF97FF\",\"#FECB52\"],\"font\":{\"color\":\"#2a3f5f\"},\"geo\":{\"bgcolor\":\"white\",\"lakecolor\":\"white\",\"landcolor\":\"#E5ECF6\",\"showlakes\":true,\"showland\":true,\"subunitcolor\":\"white\"},\"hoverlabel\":{\"align\":\"left\"},\"hovermode\":\"closest\",\"mapbox\":{\"style\":\"light\"},\"paper_bgcolor\":\"white\",\"plot_bgcolor\":\"#E5ECF6\",\"polar\":{\"angularaxis\":{\"gridcolor\":\"white\",\"linecolor\":\"white\",\"ticks\":\"\"},\"bgcolor\":\"#E5ECF6\",\"radialaxis\":{\"gridcolor\":\"white\",\"linecolor\":\"white\",\"ticks\":\"\"}},\"scene\":{\"xaxis\":{\"backgroundcolor\":\"#E5ECF6\",\"gridcolor\":\"white\",\"gridwidth\":2,\"linecolor\":\"white\",\"showbackground\":true,\"ticks\":\"\",\"zerolinecolor\":\"white\"},\"yaxis\":{\"backgroundcolor\":\"#E5ECF6\",\"gridcolor\":\"white\",\"gridwidth\":2,\"linecolor\":\"white\",\"showbackground\":true,\"ticks\":\"\",\"zerolinecolor\":\"white\"},\"zaxis\":{\"backgroundcolor\":\"#E5ECF6\",\"gridcolor\":\"white\",\"gridwidth\":2,\"linecolor\":\"white\",\"showbackground\":true,\"ticks\":\"\",\"zerolinecolor\":\"white\"}},\"shapedefaults\":{\"line\":{\"color\":\"#2a3f5f\"}},\"ternary\":{\"aaxis\":{\"gridcolor\":\"white\",\"linecolor\":\"white\",\"ticks\":\"\"},\"baxis\":{\"gridcolor\":\"white\",\"linecolor\":\"white\",\"ticks\":\"\"},\"bgcolor\":\"#E5ECF6\",\"caxis\":{\"gridcolor\":\"white\",\"linecolor\":\"white\",\"ticks\":\"\"}},\"title\":{\"x\":0.05},\"xaxis\":{\"automargin\":true,\"gridcolor\":\"white\",\"linecolor\":\"white\",\"ticks\":\"\",\"title\":{\"standoff\":15},\"zerolinecolor\":\"white\",\"zerolinewidth\":2},\"yaxis\":{\"automargin\":true,\"gridcolor\":\"white\",\"linecolor\":\"white\",\"ticks\":\"\",\"title\":{\"standoff\":15},\"zerolinecolor\":\"white\",\"zerolinewidth\":2}}},\"title\":{\"text\":\"Attack Class Distribution\"},\"width\":800,\"xaxis\":{\"title\":{\"text\":\"Attack Class\"}},\"yaxis\":{\"title\":{\"text\":\"Number of attacks\"}}},                        {\"responsive\": true}                    ).then(function(){\n",
              "                            \n",
              "var gd = document.getElementById('303f47cb-f1a3-4b2c-ad8b-0fc49bce67d8');\n",
              "var x = new MutationObserver(function (mutations, observer) {{\n",
              "        var display = window.getComputedStyle(gd).display;\n",
              "        if (!display || display === 'none') {{\n",
              "            console.log([gd, 'removed!']);\n",
              "            Plotly.purge(gd);\n",
              "            observer.disconnect();\n",
              "        }}\n",
              "}});\n",
              "\n",
              "// Listen for the removal of the full notebook cells\n",
              "var notebookContainer = gd.closest('#notebook-container');\n",
              "if (notebookContainer) {{\n",
              "    x.observe(notebookContainer, {childList: true});\n",
              "}}\n",
              "\n",
              "// Listen for the clearing of the current output cell\n",
              "var outputEl = gd.closest('.output');\n",
              "if (outputEl) {{\n",
              "    x.observe(outputEl, {childList: true});\n",
              "}}\n",
              "\n",
              "                        })                };                });            </script>        </div>"
            ]
          },
          "metadata": {},
          "output_type": "display_data"
        }
      ],
      "source": [
        "fig = go.Figure(data=[\n",
        "    go.Bar(name='normal',\n",
        "        y=df[\"attack\"].value_counts().values[0:1],\n",
        "        x=['normal'],\n",
        "        text = df[\"attack\"].value_counts()[0:1],\n",
        "        orientation='v',\n",
        "        textposition='outside',),\n",
        "    go.Bar(name='Dos',\n",
        "        y=df[\"attack\"].value_counts().values[1:2],\n",
        "        x=['Dos'],\n",
        "        text = df[\"attack\"].value_counts()[1:2],\n",
        "        orientation='v',\n",
        "        textposition='outside',),\n",
        "    go.Bar(name='Probe',\n",
        "        y=df[\"attack\"].value_counts().values[2:3],\n",
        "        x=['Probe'],\n",
        "        text = df[\"attack\"].value_counts()[2:3],\n",
        "        orientation='v',\n",
        "        textposition='outside',),\n",
        "    go.Bar(name='R2L',\n",
        "        y=df[\"attack\"].value_counts().values[3:4],\n",
        "        x=['R2L'],\n",
        "        text = df[\"attack\"].value_counts()[3:4],\n",
        "        orientation='v',\n",
        "        textposition='outside',),\n",
        "    go.Bar(name='U2R',\n",
        "        y=df[\"attack\"].value_counts().values[4:5],\n",
        "        x=['U2R'],\n",
        "        text = df[\"attack\"].value_counts()[4:5],\n",
        "        orientation='v',\n",
        "        textposition='outside',),\n",
        "])\n",
        "fig.update_layout(\n",
        "                  width=800,\n",
        "                  height=600,\n",
        "                  title=f'Attack Class Distribution',\n",
        "                  yaxis_title='Number of attacks',\n",
        "                  xaxis_title='Attack Class',)\n",
        "iplot(fig)\n"
      ]
    },
    {
      "cell_type": "markdown",
      "metadata": {
        "id": "OqFICG9KclYE"
      },
      "source": [
        "# Label Encoding"
      ]
    },
    {
      "cell_type": "code",
      "execution_count": null,
      "metadata": {
        "execution": {
          "iopub.execute_input": "2024-12-24T03:07:06.420942Z",
          "iopub.status.busy": "2024-12-24T03:07:06.420629Z",
          "iopub.status.idle": "2024-12-24T03:07:06.426235Z",
          "shell.execute_reply": "2024-12-24T03:07:06.424736Z",
          "shell.execute_reply.started": "2024-12-24T03:07:06.420916Z"
        },
        "trusted": true,
        "id": "Bd-kbFUbclYE"
      },
      "outputs": [],
      "source": [
        "from sklearn.preprocessing import LabelEncoder"
      ]
    },
    {
      "cell_type": "code",
      "execution_count": null,
      "metadata": {
        "execution": {
          "iopub.execute_input": "2024-12-24T03:07:06.428142Z",
          "iopub.status.busy": "2024-12-24T03:07:06.427673Z",
          "iopub.status.idle": "2024-12-24T03:07:06.464395Z",
          "shell.execute_reply": "2024-12-24T03:07:06.463101Z",
          "shell.execute_reply.started": "2024-12-24T03:07:06.428094Z"
        },
        "trusted": true,
        "id": "sxYlk6ImclYF"
      },
      "outputs": [],
      "source": [
        "le1 = LabelEncoder()\n",
        "le2 = LabelEncoder()\n",
        "le3 = LabelEncoder()\n",
        "le4 = LabelEncoder()\n",
        "\n",
        "le_protocol_type = le1.fit(df['protocol_type'])\n",
        "le_service = le2.fit(df['service'])\n",
        "le_flag = le3.fit(df['flag'])\n",
        "\n",
        "le_attack = le4.fit(df['attack'])"
      ]
    },
    {
      "cell_type": "code",
      "execution_count": null,
      "metadata": {
        "execution": {
          "iopub.execute_input": "2024-12-24T03:07:06.466030Z",
          "iopub.status.busy": "2024-12-24T03:07:06.465744Z",
          "iopub.status.idle": "2024-12-24T03:07:06.556215Z",
          "shell.execute_reply": "2024-12-24T03:07:06.555116Z",
          "shell.execute_reply.started": "2024-12-24T03:07:06.466007Z"
        },
        "trusted": true,
        "id": "Xm-PAGFlclYG"
      },
      "outputs": [],
      "source": [
        "df['protocol_type'] = le_protocol_type.transform(df['protocol_type'])\n",
        "df['service'] = le_service.transform(df['service'])\n",
        "df['flag'] = le_flag.transform(df['flag'])\n",
        "\n",
        "df['attack'] = le_attack.transform(df['attack'])"
      ]
    },
    {
      "cell_type": "markdown",
      "metadata": {
        "id": "BQGBphsiclYH"
      },
      "source": [
        "# Train-Test Split"
      ]
    },
    {
      "cell_type": "code",
      "execution_count": null,
      "metadata": {
        "execution": {
          "iopub.execute_input": "2024-12-24T03:10:18.141536Z",
          "iopub.status.busy": "2024-12-24T03:10:18.140462Z",
          "iopub.status.idle": "2024-12-24T03:10:18.146714Z",
          "shell.execute_reply": "2024-12-24T03:10:18.145547Z",
          "shell.execute_reply.started": "2024-12-24T03:10:18.141488Z"
        },
        "trusted": true,
        "id": "H2NOXHHWclYI"
      },
      "outputs": [],
      "source": [
        "from sklearn.model_selection import train_test_split"
      ]
    },
    {
      "cell_type": "code",
      "execution_count": null,
      "metadata": {
        "execution": {
          "iopub.execute_input": "2024-12-24T03:10:19.595644Z",
          "iopub.status.busy": "2024-12-24T03:10:19.594697Z",
          "iopub.status.idle": "2024-12-24T03:10:19.629879Z",
          "shell.execute_reply": "2024-12-24T03:10:19.628659Z",
          "shell.execute_reply.started": "2024-12-24T03:10:19.595599Z"
        },
        "trusted": true,
        "id": "xYw3QCuDclYI",
        "outputId": "00d8356e-9fbd-45c2-bcf8-5756142ea39d"
      },
      "outputs": [
        {
          "name": "stdout",
          "output_type": "stream",
          "text": [
            "X_train has shape: (125972, 41) \n",
            "y_train has shape: (125972, 1)\n"
          ]
        }
      ],
      "source": [
        "y_train= df[['attack']]\n",
        "X_train= df.drop(labels=['attack'], axis=1)\n",
        "\n",
        "print('X_train has shape:',X_train.shape,'\\ny_train has shape:',y_train.shape)"
      ]
    },
    {
      "cell_type": "code",
      "execution_count": null,
      "metadata": {
        "execution": {
          "iopub.execute_input": "2024-12-24T03:10:20.835629Z",
          "iopub.status.busy": "2024-12-24T03:10:20.834718Z",
          "iopub.status.idle": "2024-12-24T03:10:20.850192Z",
          "shell.execute_reply": "2024-12-24T03:10:20.849076Z",
          "shell.execute_reply.started": "2024-12-24T03:10:20.835585Z"
        },
        "trusted": true,
        "id": "OLAERKZqclYJ",
        "outputId": "9c048e3e-31e1-4dd3-bc6d-d907e766443d"
      },
      "outputs": [
        {
          "data": {
            "text/plain": [
              "attack\n",
              "4         67342\n",
              "0         45927\n",
              "1         11656\n",
              "2           995\n",
              "3            52\n",
              "dtype: int64"
            ]
          },
          "execution_count": 17,
          "metadata": {},
          "output_type": "execute_result"
        }
      ],
      "source": [
        "y_train.value_counts()"
      ]
    },
    {
      "cell_type": "code",
      "execution_count": null,
      "metadata": {
        "execution": {
          "iopub.execute_input": "2024-12-24T03:10:21.715413Z",
          "iopub.status.busy": "2024-12-24T03:10:21.714438Z",
          "iopub.status.idle": "2024-12-24T03:10:29.565589Z",
          "shell.execute_reply": "2024-12-24T03:10:29.564399Z",
          "shell.execute_reply.started": "2024-12-24T03:10:21.715380Z"
        },
        "trusted": true,
        "id": "RqihT6xZclYK"
      },
      "outputs": [],
      "source": [
        "from imblearn.over_sampling import SMOTE\n",
        "sm = SMOTE()\n",
        "\n",
        "x_res,y_res = sm.fit_resample(X_train,y_train)"
      ]
    },
    {
      "cell_type": "code",
      "execution_count": null,
      "metadata": {
        "execution": {
          "iopub.execute_input": "2024-12-24T03:10:32.095736Z",
          "iopub.status.busy": "2024-12-24T03:10:32.095117Z",
          "iopub.status.idle": "2024-12-24T03:10:32.397641Z",
          "shell.execute_reply": "2024-12-24T03:10:32.396146Z",
          "shell.execute_reply.started": "2024-12-24T03:10:32.095704Z"
        },
        "trusted": true,
        "id": "MHKy3uOGclYK"
      },
      "outputs": [],
      "source": [
        "X_train, X_test, y_train, y_test = train_test_split(x_res,y_res, test_size=0.20, random_state=42)"
      ]
    }
  ],
  "metadata": {
    "kaggle": {
      "accelerator": "gpu",
      "dataSources": [
        {
          "datasetId": 174616,
          "sourceId": 394223,
          "sourceType": "datasetVersion"
        }
      ],
      "dockerImageVersionId": 30664,
      "isGpuEnabled": true,
      "isInternetEnabled": false,
      "language": "python",
      "sourceType": "notebook"
    },
    "kernelspec": {
      "display_name": "Python 3",
      "language": "python",
      "name": "python3"
    },
    "language_info": {
      "codemirror_mode": {
        "name": "ipython",
        "version": 3
      },
      "file_extension": ".py",
      "mimetype": "text/x-python",
      "name": "python",
      "nbconvert_exporter": "python",
      "pygments_lexer": "ipython3",
      "version": "3.10.14"
    },
    "colab": {
      "provenance": []
    }
  },
  "nbformat": 4,
  "nbformat_minor": 0
}